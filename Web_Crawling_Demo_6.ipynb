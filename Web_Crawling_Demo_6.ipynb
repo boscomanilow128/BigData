{
 "cells": [
  {
   "cell_type": "code",
   "execution_count": 4,
   "id": "a5f3f2db-2081-4f1a-a9c9-5b80ab8d5908",
   "metadata": {},
   "outputs": [],
   "source": [
    "# 4 Major Python Libraries for Web Crawling\n",
    "# (1) Pandas - Parsing HTML Tables\n",
    "# (2) Request - Parsing HTML Codes\n",
    "# (3) BeautifulSoup - Analyzing HTML Codes\n",
    "# (4) Selenium - Automating Browser Activities\n",
    "\n",
    "# All labs in these lessons are meant for demonstrating web crawling techniques only.\n",
    "# Please Google and try to understand in details the ethics and best practice for web crawling.\n",
    "# e.g. https://sunscrapers.com/blog/web-crawling-scraping-best-practices/"
   ]
  },
  {
   "cell_type": "code",
   "execution_count": 15,
   "id": "610fcac7-7be1-43d2-a640-e0429b702ff1",
   "metadata": {},
   "outputs": [],
   "source": [
    "from selenium import webdriver\n",
    "from bs4 import BeautifulSoup\n",
    "import pandas as pd\n",
    "import random\n",
    "import time"
   ]
  },
  {
   "cell_type": "code",
   "execution_count": 5,
   "id": "ce0bbf80-ef51-4bf0-b2dd-2f86c8dc775a",
   "metadata": {},
   "outputs": [
    {
     "data": {
      "text/plain": [
       "[<h4 class=\"hp-listing__title\"><a href=\"https://hkbeautyhub.com/listing-shop/two-beauty/\">Two Beauty</a>\n",
       " <i class=\"hp-listing__verified-badge hp-listing__verified hp-icon fas fa-check-circle\" title=\"Verified\"></i>\n",
       " </h4>,\n",
       " <h4 class=\"hp-listing__title\"><a href=\"https://hkbeautyhub.com/listing-shop/glamour-beauty-pro/\">Glamour Beauty Pro</a>\n",
       " <i class=\"hp-listing__verified-badge hp-listing__verified hp-icon fas fa-check-circle\" title=\"Verified\"></i>\n",
       " </h4>,\n",
       " <h4 class=\"hp-listing__title\"><a href=\"https://hkbeautyhub.com/listing-shop/eternal-beaute/\">Eternal Beaute</a>\n",
       " <i class=\"hp-listing__verified-badge hp-listing__verified hp-icon fas fa-check-circle\" title=\"Verified\"></i>\n",
       " </h4>,\n",
       " <h4 class=\"hp-listing__title\"><a href=\"https://hkbeautyhub.com/listing-shop/mm-nail-eyelashes-beauty/\">MM nail eyelashes beauty</a>\n",
       " <i class=\"hp-listing__verified-badge hp-listing__verified hp-icon fas fa-check-circle\" title=\"Verified\"></i>\n",
       " </h4>,\n",
       " <h4 class=\"hp-listing__title\"><a href=\"https://hkbeautyhub.com/listing-shop/giho/\">GIHO</a>\n",
       " <i class=\"hp-listing__verified-badge hp-listing__verified hp-icon fas fa-check-circle\" title=\"Verified\"></i>\n",
       " </h4>,\n",
       " <h4 class=\"hp-listing__title\"><a href=\"https://hkbeautyhub.com/listing-shop/2/\">Blingbeau Medical🫶🏻水光肌，治療專家WhatsApp. 93326669</a>\n",
       " </h4>,\n",
       " <h4 class=\"hp-listing__title\"><a href=\"https://hkbeautyhub.com/listing-shop/%e9%8f%a2%e9%9d%b6%e5%bc%8f%e6%b2%bb%e7%99%82%e5%b0%88%e5%ae%b6/\">鏢靶式治療專家</a>\n",
       " </h4>,\n",
       " <h4 class=\"hp-listing__title\"><a href=\"https://hkbeautyhub.com/listing-shop/my-perfect-skin/\">My perfect skin</a>\n",
       " </h4>,\n",
       " <h4 class=\"hp-listing__title\"><a href=\"https://hkbeautyhub.com/listing-shop/%e6%82%85%e9%ba%97%e9%96%a3%e7%be%8e%e5%ae%b9%e4%b8%ad%e5%bf%83/\">悅麗閣美容中心</a>\n",
       " </h4>,\n",
       " <h4 class=\"hp-listing__title\"><a href=\"https://hkbeautyhub.com/listing-shop/maryland-beauty/\">Maryland Beauty</a>\n",
       " </h4>,\n",
       " <h4 class=\"hp-listing__title\"><a href=\"https://hkbeautyhub.com/listing-shop/starnail-%e6%98%9f%e7%b4%9a%e7%be%8e%e7%94%b2/\">Starnail 星級美甲</a>\n",
       " </h4>,\n",
       " <h4 class=\"hp-listing__title\"><a href=\"https://hkbeautyhub.com/listing-shop/rainbow-tattoo-beauty/\">Rainbow Tattoo Beauty</a>\n",
       " </h4>,\n",
       " <h4 class=\"hp-listing__title\"><a href=\"https://hkbeautyhub.com/listing-shop/%e8%8f%b2%e8%8f%b2%e7%be%8e%e7%94%b2%e5%ba%97/\">菲菲美甲店</a>\n",
       " </h4>,\n",
       " <h4 class=\"hp-listing__title\"><a href=\"https://hkbeautyhub.com/listing-shop/%e8%8e%8e%e8%8e%89/\">莎莉</a>\n",
       " </h4>,\n",
       " <h4 class=\"hp-listing__title\"><a href=\"https://hkbeautyhub.com/listing-shop/%e5%9c%93%e5%a4%a2%e7%be%8e%e9%ba%97%e5%b1%8b/\">圓夢美麗屋</a>\n",
       " </h4>,\n",
       " <h4 class=\"hp-listing__title\"><a href=\"https://hkbeautyhub.com/listing-shop/do-re-mi/\">Do Re Mi</a>\n",
       " </h4>,\n",
       " <h4 class=\"hp-listing__title\"><a href=\"https://hkbeautyhub.com/listing-shop/lilo-beauty-centre/\">Lilo Beauty Centre</a>\n",
       " </h4>,\n",
       " <h4 class=\"hp-listing__title\"><a href=\"https://hkbeautyhub.com/listing-shop/jm-dream-beauty/\">JM Dream Beauty</a>\n",
       " </h4>,\n",
       " <h4 class=\"hp-listing__title\"><a href=\"https://hkbeautyhub.com/listing-shop/%e8%8a%b1%e6%a8%a3%e7%be%8espa/\">花樣美SPA</a>\n",
       " </h4>,\n",
       " <h4 class=\"hp-listing__title\"><a href=\"https://hkbeautyhub.com/listing-shop/joyce-beauty-center/\">Joyce Beauty Center</a>\n",
       " </h4>,\n",
       " <h4 class=\"hp-listing__title\"><a href=\"https://hkbeautyhub.com/listing-shop/beauty-be-shop-%e6%b7%b1%e6%b0%b4%e5%9f%97/\">Beauty Be Shop (深水埗)</a>\n",
       " </h4>,\n",
       " <h4 class=\"hp-listing__title\"><a href=\"https://hkbeautyhub.com/listing-shop/vegas-spa-%e6%b7%b1%e6%b0%b4%e5%9f%97/\">Vegas Spa ( 深水埗)</a>\n",
       " </h4>,\n",
       " <h4 class=\"hp-listing__title\"><a href=\"https://hkbeautyhub.com/listing-shop/lily-%e7%be%8e%e7%94%b2/\">Lily 美甲</a>\n",
       " </h4>,\n",
       " <h4 class=\"hp-listing__title\"><a href=\"https://hkbeautyhub.com/listing-shop/%e6%b8%bc%e6%b9%84%e7%be%8e%e5%ae%b9/\">渼湄美容</a>\n",
       " </h4>,\n",
       " <h4 class=\"hp-listing__title\"><a href=\"https://hkbeautyhub.com/listing-shop/pacinos-line/\">Pacinos Line</a>\n",
       " </h4>]"
      ]
     },
     "execution_count": 5,
     "metadata": {},
     "output_type": "execute_result"
    }
   ],
   "source": [
    "driver = webdriver.Chrome('./chromedriver')\n",
    "url = \"https://hkbeautyhub.com/page/1/?post_type=hp_listing&_category&s\"\n",
    "driver.get(url)\n",
    "html = driver.page_source\n",
    "t = random.uniform(2, 5)\n",
    "time.sleep(t)\n",
    "soup = BeautifulSoup(html)\n",
    "title_table = soup.find_all(\"h4\", {\"class\":\"hp-listing__title\"})\n",
    "driver.quit()\n",
    "title_table"
   ]
  },
  {
   "cell_type": "code",
   "execution_count": 6,
   "id": "c94bc61f-c325-47e8-a969-ed93a9cc336c",
   "metadata": {},
   "outputs": [
    {
     "name": "stdout",
     "output_type": "stream",
     "text": [
      "1\n",
      "2\n",
      "3\n",
      "4\n",
      "5\n",
      "6\n",
      "7\n",
      "8\n",
      "9\n"
     ]
    }
   ],
   "source": [
    "full_array = []\n",
    "driver = webdriver.Chrome('./chromedriver')\n",
    "for i in range(1, 10):\n",
    "    print(i)\n",
    "    url = \"https://hkbeautyhub.com/page/\" + str(i) + \"/?post_type=hp_listing&_category&s\"\n",
    "    driver.get(url)\n",
    "    html = driver.page_source\n",
    "    t = random.uniform(2, 5)\n",
    "    time.sleep(t)\n",
    "    soup = BeautifulSoup(html)\n",
    "    title_table = soup.find_all(\"h4\", {\"class\":\"hp-listing__title\"})\n",
    "    full_array = full_array + title_table\n",
    "driver.quit()\n",
    "#full_array"
   ]
  },
  {
   "cell_type": "code",
   "execution_count": 7,
   "id": "9cb32cc3-b3f2-4b84-accb-b30d92eaebba",
   "metadata": {},
   "outputs": [
    {
     "data": {
      "text/plain": [
       "list"
      ]
     },
     "execution_count": 7,
     "metadata": {},
     "output_type": "execute_result"
    }
   ],
   "source": [
    "type(full_array)"
   ]
  },
  {
   "cell_type": "code",
   "execution_count": 8,
   "id": "6ba546ec-cdc7-4e5e-856c-6a2b824951da",
   "metadata": {},
   "outputs": [
    {
     "data": {
      "text/plain": [
       "<h4 class=\"hp-listing__title\"><a href=\"https://hkbeautyhub.com/listing-shop/two-beauty/\">Two Beauty</a>\n",
       "<i class=\"hp-listing__verified-badge hp-listing__verified hp-icon fas fa-check-circle\" title=\"Verified\"></i>\n",
       "</h4>"
      ]
     },
     "execution_count": 8,
     "metadata": {},
     "output_type": "execute_result"
    }
   ],
   "source": [
    "full_array[0]"
   ]
  },
  {
   "cell_type": "code",
   "execution_count": 9,
   "id": "4fe88805-b6d2-4c63-8998-a237e51c232a",
   "metadata": {},
   "outputs": [
    {
     "data": {
      "text/plain": [
       "bs4.element.Tag"
      ]
     },
     "execution_count": 9,
     "metadata": {},
     "output_type": "execute_result"
    }
   ],
   "source": [
    "type(full_array[0])"
   ]
  },
  {
   "cell_type": "code",
   "execution_count": 10,
   "id": "28aeb1e6-e9d4-44cc-8c04-afe40c440d49",
   "metadata": {},
   "outputs": [
    {
     "data": {
      "text/plain": [
       "[<a href=\"https://hkbeautyhub.com/listing-shop/two-beauty/\">Two Beauty</a>,\n",
       " '\\n',\n",
       " <i class=\"hp-listing__verified-badge hp-listing__verified hp-icon fas fa-check-circle\" title=\"Verified\"></i>,\n",
       " '\\n']"
      ]
     },
     "execution_count": 10,
     "metadata": {},
     "output_type": "execute_result"
    }
   ],
   "source": [
    "full_array[0].contents"
   ]
  },
  {
   "cell_type": "code",
   "execution_count": 11,
   "id": "17796fc1-28f7-4276-97dc-73bdbb50eb81",
   "metadata": {},
   "outputs": [
    {
     "data": {
      "text/plain": [
       "<a href=\"https://hkbeautyhub.com/listing-shop/two-beauty/\">Two Beauty</a>"
      ]
     },
     "execution_count": 11,
     "metadata": {},
     "output_type": "execute_result"
    }
   ],
   "source": [
    "full_array[0].contents[0]"
   ]
  },
  {
   "cell_type": "code",
   "execution_count": 12,
   "id": "e8af8d8c-ec66-491f-a8a0-91a3eab49c05",
   "metadata": {},
   "outputs": [
    {
     "data": {
      "text/plain": [
       "'https://hkbeautyhub.com/listing-shop/two-beauty/'"
      ]
     },
     "execution_count": 12,
     "metadata": {},
     "output_type": "execute_result"
    }
   ],
   "source": [
    "full_array[0].contents[0][\"href\"]"
   ]
  },
  {
   "cell_type": "code",
   "execution_count": 13,
   "id": "f76e8f06-4d31-4262-bf0d-bfdedd829f16",
   "metadata": {},
   "outputs": [
    {
     "data": {
      "text/plain": [
       "['https://hkbeautyhub.com/listing-shop/two-beauty/',\n",
       " 'https://hkbeautyhub.com/listing-shop/glamour-beauty-pro/',\n",
       " 'https://hkbeautyhub.com/listing-shop/eternal-beaute/',\n",
       " 'https://hkbeautyhub.com/listing-shop/mm-nail-eyelashes-beauty/',\n",
       " 'https://hkbeautyhub.com/listing-shop/giho/',\n",
       " 'https://hkbeautyhub.com/listing-shop/2/',\n",
       " 'https://hkbeautyhub.com/listing-shop/%e9%8f%a2%e9%9d%b6%e5%bc%8f%e6%b2%bb%e7%99%82%e5%b0%88%e5%ae%b6/',\n",
       " 'https://hkbeautyhub.com/listing-shop/my-perfect-skin/',\n",
       " 'https://hkbeautyhub.com/listing-shop/%e6%82%85%e9%ba%97%e9%96%a3%e7%be%8e%e5%ae%b9%e4%b8%ad%e5%bf%83/',\n",
       " 'https://hkbeautyhub.com/listing-shop/maryland-beauty/',\n",
       " 'https://hkbeautyhub.com/listing-shop/starnail-%e6%98%9f%e7%b4%9a%e7%be%8e%e7%94%b2/',\n",
       " 'https://hkbeautyhub.com/listing-shop/rainbow-tattoo-beauty/',\n",
       " 'https://hkbeautyhub.com/listing-shop/%e8%8f%b2%e8%8f%b2%e7%be%8e%e7%94%b2%e5%ba%97/',\n",
       " 'https://hkbeautyhub.com/listing-shop/%e8%8e%8e%e8%8e%89/',\n",
       " 'https://hkbeautyhub.com/listing-shop/%e5%9c%93%e5%a4%a2%e7%be%8e%e9%ba%97%e5%b1%8b/',\n",
       " 'https://hkbeautyhub.com/listing-shop/do-re-mi/',\n",
       " 'https://hkbeautyhub.com/listing-shop/lilo-beauty-centre/',\n",
       " 'https://hkbeautyhub.com/listing-shop/jm-dream-beauty/',\n",
       " 'https://hkbeautyhub.com/listing-shop/%e8%8a%b1%e6%a8%a3%e7%be%8espa/',\n",
       " 'https://hkbeautyhub.com/listing-shop/joyce-beauty-center/',\n",
       " 'https://hkbeautyhub.com/listing-shop/beauty-be-shop-%e6%b7%b1%e6%b0%b4%e5%9f%97/',\n",
       " 'https://hkbeautyhub.com/listing-shop/vegas-spa-%e6%b7%b1%e6%b0%b4%e5%9f%97/',\n",
       " 'https://hkbeautyhub.com/listing-shop/lily-%e7%be%8e%e7%94%b2/',\n",
       " 'https://hkbeautyhub.com/listing-shop/%e6%b8%bc%e6%b9%84%e7%be%8e%e5%ae%b9/',\n",
       " 'https://hkbeautyhub.com/listing-shop/pacinos-line/',\n",
       " 'https://hkbeautyhub.com/listing-shop/infinite-medical/',\n",
       " 'https://hkbeautyhub.com/listing-shop/glamour-beauty-pro/',\n",
       " 'https://hkbeautyhub.com/listing-shop/d-skin-solutions-center-shatin/',\n",
       " 'https://hkbeautyhub.com/listing-shop/colla-white-cwb/',\n",
       " 'https://hkbeautyhub.com/listing-shop/colla-white-central/',\n",
       " 'https://hkbeautyhub.com/listing-shop/%e7%b4%85%e9%ab%ae%e5%bb%8a%e7%be%8e%e5%ae%b9/',\n",
       " 'https://hkbeautyhub.com/listing-shop/%e7%be%8e%e9%ba%97%e5%85%83%e7%b4%a0/',\n",
       " 'https://hkbeautyhub.com/listing-shop/cc%e7%be%8e%e7%94%b2%e7%be%8e%e7%9d%ab/',\n",
       " 'https://hkbeautyhub.com/listing-shop/%e7%90%aa%e8%8f%b2%e5%85%92%e7%be%8e%e5%ae%b9/',\n",
       " 'https://hkbeautyhub.com/listing-shop/mioggi-spa-k11/',\n",
       " 'https://hkbeautyhub.com/listing-shop/cc-beauty-2/',\n",
       " 'https://hkbeautyhub.com/listing-shop/se-beauty/',\n",
       " 'https://hkbeautyhub.com/listing-shop/%e7%be%8e%e7%91%a9-%e4%b8%ad%e5%bf%83/',\n",
       " 'https://hkbeautyhub.com/listing-shop/la-bellezza-beauty-salon/',\n",
       " 'https://hkbeautyhub.com/listing-shop/skin-beauty-plus-%e8%89%be%e7%be%8e%e5%9d%8a-2/',\n",
       " 'https://hkbeautyhub.com/listing-shop/julies-spa-massage/',\n",
       " 'https://hkbeautyhub.com/listing-shop/js-health-beauty-centre/',\n",
       " 'https://hkbeautyhub.com/listing-shop/%e4%b8%ad%e5%9c%8b%e5%9f%8e%e7%be%8e%e5%ae%b9%e4%b8%ad%e5%bf%83/',\n",
       " 'https://hkbeautyhub.com/listing-shop/%e7%be%8e%e8%88%8d/',\n",
       " 'https://hkbeautyhub.com/listing-shop/%e7%b4%85%e6%a3%89%e5%b0%88%e6%a5%ad%e7%be%8e%e5%ae%b9%e4%b8%ad%e5%bf%83/',\n",
       " 'https://hkbeautyhub.com/listing-shop/be-beauty-2/',\n",
       " 'https://hkbeautyhub.com/listing-shop/%e6%bb%bf%e6%84%8f%e7%90%86%e7%99%82%e4%b8%ad%e5%bf%83/',\n",
       " 'https://hkbeautyhub.com/listing-shop/asterspring-origin-of-beauty/',\n",
       " 'https://hkbeautyhub.com/listing-shop/baby-eye/',\n",
       " 'https://hkbeautyhub.com/listing-shop/esteem-anti-aging-center-%e6%9d%8f%e6%9e%97%e7%b6%93%e7%b5%a1%e7%be%8e%e8%82%8c/',\n",
       " 'https://hkbeautyhub.com/listing-shop/infinite-medical/',\n",
       " 'https://hkbeautyhub.com/listing-shop/colla-white-central/',\n",
       " 'https://hkbeautyhub.com/listing-shop/homage-skinlab/',\n",
       " 'https://hkbeautyhub.com/listing-shop/d-skin-solutions-center-shatin/',\n",
       " 'https://hkbeautyhub.com/listing-shop/glamour-beauty-pro/',\n",
       " 'https://hkbeautyhub.com/listing-shop/%e5%a5%bd%e5%b8%ab%e5%82%85/',\n",
       " 'https://hkbeautyhub.com/listing-shop/beauty-town-%e5%bd%a9%e5%ae%b9%e8%bb%92/',\n",
       " 'https://hkbeautyhub.com/listing-shop/spa-collection-%e5%b0%96%e6%b2%99%e5%92%80%e5%ba%97/',\n",
       " 'https://hkbeautyhub.com/listing-shop/%e8%97%8f%e7%b4%85%e5%a4%a9%e8%96%b0%e8%92%b8%c2%b7%e9%a4%8a%e7%94%9f%e9%a4%a8-%e5%b0%96%e6%b2%99%e5%92%80%e5%ba%97/',\n",
       " 'https://hkbeautyhub.com/listing-shop/%e6%82%a0%e7%84%b6%e5%a0%82%e5%81%a5%e5%ba%b7%e5%8f%8a%e7%be%8e%e5%ae%b9%e4%b8%ad%e5%bf%83-2/',\n",
       " 'https://hkbeautyhub.com/listing-shop/crystal-health-care-%e6%99%b6%e6%99%b6%e4%bf%9d%e5%81%a5%e4%b8%ad%e5%bf%83/',\n",
       " 'https://hkbeautyhub.com/listing-shop/skin-beauty-%e6%82%a6%e5%b7%b1%e7%be%8e%e7%ba%96/',\n",
       " 'https://hkbeautyhub.com/listing-shop/ttcb-%e9%9f%93%e5%bc%8f%e7%9a%ae%e8%86%9a%e7%ae%a1%e7%90%86%e5%b7%a5%e4%bd%9c%e5%ae%a4/',\n",
       " 'https://hkbeautyhub.com/listing-shop/dr-cilabo-%e5%b0%96%e6%b2%99%e5%92%80/',\n",
       " 'https://hkbeautyhub.com/listing-shop/jinpoint-beauty-salon/',\n",
       " 'https://hkbeautyhub.com/listing-shop/%e7%8f%8d%e7%8f%a0%e7%9a%ae/',\n",
       " 'https://hkbeautyhub.com/listing-shop/bella-donna-%e7%be%8e%e6%a8%82%e7%ba%96%e9%ab%94%e7%be%8e%e5%ae%b9/',\n",
       " 'https://hkbeautyhub.com/listing-shop/%e8%98%ad%e5%bf%83%e7%be%8e%e5%ae%b9/',\n",
       " 'https://hkbeautyhub.com/listing-shop/pure-skin-beauty-shop/',\n",
       " 'https://hkbeautyhub.com/listing-shop/miss-paris-the-beauty-school-%e8%9c%9c%e7%b5%b2%e8%8a%ad%e8%8e%89%e7%be%8e%e5%ae%b9%e5%ad%b8%e6%a0%a1/',\n",
       " 'https://hkbeautyhub.com/listing-shop/meso-young-clinic-%e8%82%8c%e7%a0%94%e9%86%ab%e5%ad%b8%e7%be%8e%e5%ae%b9/',\n",
       " 'https://hkbeautyhub.com/listing-shop/bio-beauty-culture-%e7%be%8e%e5%a6%8d%e6%99%82%e5%b0%9a%e6%96%87%e5%8c%96/',\n",
       " 'https://hkbeautyhub.com/listing-shop/beauty-inn-beauty-centre/',\n",
       " 'https://hkbeautyhub.com/listing-shop/i-skin-beauty/',\n",
       " 'https://hkbeautyhub.com/listing-shop/purebeau-asia/',\n",
       " 'https://hkbeautyhub.com/listing-shop/d-skin-solutions-center-shatin/',\n",
       " 'https://hkbeautyhub.com/listing-shop/example/',\n",
       " 'https://hkbeautyhub.com/listing-shop/glamour-beauty-pro/',\n",
       " 'https://hkbeautyhub.com/listing-shop/two-beauty/',\n",
       " 'https://hkbeautyhub.com/listing-shop/homage-skinlab/',\n",
       " 'https://hkbeautyhub.com/listing-shop/the-star-peninsula-spa/',\n",
       " 'https://hkbeautyhub.com/listing-shop/mono-beauty-2/',\n",
       " 'https://hkbeautyhub.com/listing-shop/ib%e5%bf%83%e6%84%8f%e7%be%8e%e8%81%9a/',\n",
       " 'https://hkbeautyhub.com/listing-shop/medik-pro-%e9%86%ab%e7%99%82%e5%8f%8a%e7%be%8e%e5%ae%b9%e9%9b%86%e5%9c%98-%e4%bd%90%e6%95%a6%e5%ba%97/',\n",
       " 'https://hkbeautyhub.com/listing-shop/zkin-advanced-beauty-%e6%96%b0%e8%82%8c%e7%a7%91%e6%8a%80%e7%be%8e%e5%ae%b9%e4%b8%ad%e5%bf%83-%e4%bd%90%e6%95%a6%e5%ba%97/',\n",
       " 'https://hkbeautyhub.com/listing-shop/%e9%bd%8a%e5%81%a5%e9%a4%8a%e7%94%9f%e5%a0%82/',\n",
       " 'https://hkbeautyhub.com/listing-shop/ysl-beauty-elements/',\n",
       " 'https://hkbeautyhub.com/listing-shop/qve-eyelash-beauty-3/',\n",
       " 'https://hkbeautyhub.com/listing-shop/%e4%bb%8a%e7%94%9f%e5%9c%8b%e9%9a%9b%e9%86%ab%e5%ad%b8%e7%be%8e%e5%ae%b9%e4%b8%ad%e5%bf%83/',\n",
       " 'https://hkbeautyhub.com/listing-shop/beauty-be-shop-3/',\n",
       " 'https://hkbeautyhub.com/listing-shop/lpg-endermologie/',\n",
       " 'https://hkbeautyhub.com/listing-shop/kangs-healthyland-%e4%bd%90%e6%95%a6%e5%ba%97/',\n",
       " 'https://hkbeautyhub.com/listing-shop/slim-beauty-%e8%a9%a9%e7%90%b3%e7%be%8e%e5%ae%b9-%e4%bd%90%e6%95%a6%e5%88%86%e5%ba%97/',\n",
       " 'https://hkbeautyhub.com/listing-shop/pretty-medical-%e4%bd%90%e6%95%a6%e5%ba%97/',\n",
       " 'https://hkbeautyhub.com/listing-shop/facess-beauty-%e6%96%90%e6%96%90%e5%b9%b4%e8%bc%95%e7%b7%a0%e9%80%a0%e4%b8%ad%e5%bf%83/',\n",
       " 'https://hkbeautyhub.com/listing-shop/beauty-style/',\n",
       " 'https://hkbeautyhub.com/listing-shop/beaute-life-%e7%be%8e%e9%ba%97%e4%ba%ba%e7%94%9f-%e4%bd%90%e6%95%a6%e5%ba%97/',\n",
       " 'https://hkbeautyhub.com/listing-shop/scented-moments-%e8%8a%b3%e9%a6%99%e7%be%8e%e8%81%9a/',\n",
       " 'https://hkbeautyhub.com/listing-shop/cmm-medical-beauty-%e7%9c%89%e5%9e%8b%e5%a0%82-%e6%97%ba%e8%a7%92%e5%ba%97/',\n",
       " 'https://hkbeautyhub.com/listing-shop/babor/',\n",
       " 'https://hkbeautyhub.com/listing-shop/giho/',\n",
       " 'https://hkbeautyhub.com/listing-shop/colla-white-cwb/',\n",
       " 'https://hkbeautyhub.com/listing-shop/infinite-medical/',\n",
       " 'https://hkbeautyhub.com/listing-shop/yanis-beauty%e6%9c%97%e6%99%b4%e5%9d%8a/',\n",
       " 'https://hkbeautyhub.com/listing-shop/homage-skinlab/',\n",
       " 'https://hkbeautyhub.com/listing-shop/%e4%bf%ae%e8%85%b3%e7%94%b2%e4%ba%9e%e5%80%ab/',\n",
       " 'https://hkbeautyhub.com/listing-shop/%e8%8a%b8%e5%a6%ae%e7%be%8e%e5%ae%b9%e5%b1%8b/',\n",
       " 'https://hkbeautyhub.com/listing-shop/%e8%8f%b2%e8%8f%b2%e7%be%8e%e5%ae%b9/',\n",
       " 'https://hkbeautyhub.com/listing-shop/chlitina-%e4%bb%99%e8%bf%aa%e7%be%8e%e5%ae%b9%e5%81%a5%e5%ba%b7%e9%a1%a7%e5%95%8f%e4%b8%ad%e5%bf%83/',\n",
       " 'https://hkbeautyhub.com/listing-shop/blanc-eyelash-salon-%e4%bd%90%e6%95%a6%e5%ba%97/',\n",
       " 'https://hkbeautyhub.com/listing-shop/ying-beauty-salon-%e7%9b%88%e9%81%94%e5%a0%82%e7%be%8e%e5%ae%b9%e4%b8%ad%e5%bf%83/',\n",
       " 'https://hkbeautyhub.com/listing-shop/leisure-land-%e6%82%a0%e7%84%b6%e9%a4%8a%e7%94%9f%e4%bf%9d%e5%81%a5/',\n",
       " 'https://hkbeautyhub.com/listing-shop/%e5%a3%b9%e7%be%8e%e5%81%a5%e9%86%ab%e7%99%82%e7%be%8e%e5%ae%b9%e9%9b%86%e5%9c%98-one-cosmedic-%e4%bd%90%e6%95%a6%e5%ba%97/',\n",
       " 'https://hkbeautyhub.com/listing-shop/beauty-square-%e7%be%8e%e9%a4%8a%e5%9d%8a/',\n",
       " 'https://hkbeautyhub.com/listing-shop/life-beaute/',\n",
       " 'https://hkbeautyhub.com/listing-shop/rich-beauty-%e7%9b%88%e8%b1%90%e7%ba%96%e9%ab%94%e7%be%8e%e5%ae%b9/',\n",
       " 'https://hkbeautyhub.com/listing-shop/dr-view-medical-%e9%86%ab%e5%8c%af/',\n",
       " 'https://hkbeautyhub.com/listing-shop/beauty-trend-%e6%99%82%e5%b0%9a%e7%be%8e%e7%be%8e%e5%ae%b9%e4%b8%ad%e5%bf%83/',\n",
       " 'https://hkbeautyhub.com/listing-shop/carrie-face-beauty-centre-%e5%a6%8d%e5%a7%ab%e8%88%8d%e7%ba%96%e9%ab%94%e7%be%8e%e5%ae%b9%e4%b8%ad%e5%bf%83/',\n",
       " 'https://hkbeautyhub.com/listing-shop/m-garrie/',\n",
       " 'https://hkbeautyhub.com/listing-shop/dick-beauty-centre-2/',\n",
       " 'https://hkbeautyhub.com/listing-shop/nicole%e7%b4%8b%e7%b9%a1/',\n",
       " 'https://hkbeautyhub.com/listing-shop/wai-wah-beauty-%e6%85%a7%e8%8f%af%e7%be%8e%e5%ae%b9-2/',\n",
       " 'https://hkbeautyhub.com/listing-shop/mcarrie-skin-beauty/',\n",
       " 'https://hkbeautyhub.com/listing-shop/wing-beauty/',\n",
       " 'https://hkbeautyhub.com/listing-shop/yanis-beauty%e6%b5%b7%e5%b3%b6%e4%b8%ad%e5%bf%83/',\n",
       " 'https://hkbeautyhub.com/listing-shop/mj-beauty-care/',\n",
       " 'https://hkbeautyhub.com/listing-shop/yanis-beauty%e6%9c%97%e6%99%b4%e5%9d%8a/',\n",
       " 'https://hkbeautyhub.com/listing-shop/colla-white-cwb/',\n",
       " 'https://hkbeautyhub.com/listing-shop/colla-white-central/',\n",
       " 'https://hkbeautyhub.com/listing-shop/real-beauty-centre-%e7%9c%9f%e6%84%9f%e8%a6%ba%e7%9c%89%e5%9e%8b%e5%a1%91%e9%80%a0%e5%b0%88%e9%96%80%e5%ba%97/',\n",
       " 'https://hkbeautyhub.com/listing-shop/%e5%8d%93%e8%93%89%e9%a4%8a%e7%94%9f%e5%a0%82/',\n",
       " 'https://hkbeautyhub.com/listing-shop/beauty-by-nono-hong-kong/',\n",
       " 'https://hkbeautyhub.com/listing-shop/%e5%98%89%e6%82%85%e9%86%ab%e7%99%82-%e6%97%ba%e8%a7%92/',\n",
       " 'https://hkbeautyhub.com/listing-shop/%e5%9f%ba%e5%88%a9%e8%8d%89%e6%9c%ac%e8%ad%b7%e8%86%9a%e6%9c%89%e9%99%90%e5%85%ac%e5%8f%b8/',\n",
       " 'https://hkbeautyhub.com/listing-shop/c-g-beauty-2/',\n",
       " 'https://hkbeautyhub.com/listing-shop/we-skin-center-2/',\n",
       " 'https://hkbeautyhub.com/listing-shop/shiawase-mekao-%e5%b9%b8%e7%a6%8f%e7%9b%ae%e9%a1%8f/',\n",
       " 'https://hkbeautyhub.com/listing-shop/hearty-beauty-center-2/',\n",
       " 'https://hkbeautyhub.com/listing-shop/pretty-pretty-the-trend-basic-treatment-spa/',\n",
       " 'https://hkbeautyhub.com/listing-shop/hoi-ying-beauty-salon-%e6%b5%b7%e7%91%a9%e7%be%8e%e5%ae%b9%e7%ba%96%e9%ab%94%e4%b8%ad%e5%bf%83/',\n",
       " 'https://hkbeautyhub.com/listing-shop/%e5%b0%8f%e5%b0%8f%e7%be%8e%e7%94%b2-2/',\n",
       " 'https://hkbeautyhub.com/listing-shop/slim-beauty-%e8%a9%a9%e7%90%b3%e7%be%8e%e5%ae%b9-%e5%a5%a7%e6%b5%b7%e5%9f%8e2%e5%ba%97/',\n",
       " 'https://hkbeautyhub.com/listing-shop/v-siim-%e6%84%9b%e7%ba%96%e7%be%8e%e5%ae%b9/',\n",
       " 'https://hkbeautyhub.com/listing-shop/la-beauty-%e5%a4%a9%e6%a6%86%e7%be%8e%e5%ae%b9%e4%b8%ad%e5%bf%83/',\n",
       " 'https://hkbeautyhub.com/listing-shop/con-beau-%e5%87%9d/',\n",
       " 'https://hkbeautyhub.com/listing-shop/%e9%81%87%e8%a6%8b%e7%be%8e%e7%94%b2/',\n",
       " 'https://hkbeautyhub.com/listing-shop/%e7%be%8e%e5%a7%bf%e7%be%8e%e5%ae%b9%e9%99%a2/',\n",
       " 'https://hkbeautyhub.com/listing-shop/%e7%99%bd%e7%89%a1%e4%b8%b9%e5%b0%88%e6%a5%ad%e4%b8%ad%e9%86%ab%e7%be%8e%e5%ae%b9%e4%b8%ad%e5%bf%83/',\n",
       " 'https://hkbeautyhub.com/listing-shop/%e8%94%98%e8%97%8f%e8%96%b0%e8%92%b8%e7%be%8e%e5%ae%b9%e9%a4%8a%e7%94%9f%e9%a4%a8/',\n",
       " 'https://hkbeautyhub.com/listing-shop/mj-beauty-care/',\n",
       " 'https://hkbeautyhub.com/listing-shop/homage-skinlab/',\n",
       " 'https://hkbeautyhub.com/listing-shop/dr-rebornlangham-place/',\n",
       " 'https://hkbeautyhub.com/listing-shop/eternal-beaute/',\n",
       " 'https://hkbeautyhub.com/listing-shop/lumino/',\n",
       " 'https://hkbeautyhub.com/listing-shop/%e4%bb%81%e6%b2%81%e9%86%ab%e7%be%8e/',\n",
       " 'https://hkbeautyhub.com/listing-shop/tammy-bride-beauty-club/',\n",
       " 'https://hkbeautyhub.com/listing-shop/fantasy-spa-beauty-%e8%96%b0%e9%ab%94%e9%81%a9/',\n",
       " 'https://hkbeautyhub.com/listing-shop/swiss-o-beauty-expert-%e5%a4%aa%e5%ad%90%e5%ba%97/',\n",
       " 'https://hkbeautyhub.com/listing-shop/water-lily-beauty-centre-%e6%b0%b4%e8%8a%ba%e8%93%89-%e7%be%8e%e5%ae%b9%e7%ba%96%e9%ab%94%e4%b8%ad%e5%bf%83/',\n",
       " 'https://hkbeautyhub.com/listing-shop/about-beauty-%e6%82%85%e6%a6%95%e8%8e%8a-%e5%a4%aa%e5%ad%90/',\n",
       " 'https://hkbeautyhub.com/listing-shop/mix-beauty/',\n",
       " 'https://hkbeautyhub.com/listing-shop/oh-fata-beauty/',\n",
       " 'https://hkbeautyhub.com/listing-shop/nabeauty/',\n",
       " 'https://hkbeautyhub.com/listing-shop/%e5%84%b7%e9%9b%b2%e7%ba%96%e9%ab%94%e7%be%8e%e5%ae%b9/',\n",
       " 'https://hkbeautyhub.com/listing-shop/feon-beauty/',\n",
       " 'https://hkbeautyhub.com/listing-shop/j-g-beauty/',\n",
       " 'https://hkbeautyhub.com/listing-shop/%e7%be%8e%e8%98%ad%e5%b0%88%e6%a5%ad%e5%8c%96%e7%b2%a7%e7%be%8e%e5%ae%b9/',\n",
       " 'https://hkbeautyhub.com/listing-shop/jq-beauty/',\n",
       " 'https://hkbeautyhub.com/listing-shop/selflas-beauty/',\n",
       " 'https://hkbeautyhub.com/listing-shop/%e8%ba%ab%e5%bf%83%e6%a8%82%e9%a4%8a%e7%94%9f%e7%be%8e%e5%ae%b9/',\n",
       " 'https://hkbeautyhub.com/listing-shop/grand-beauties-%e8%8a%8a%e7%be%8e%e8%8e%8a/',\n",
       " 'https://hkbeautyhub.com/listing-shop/%e5%85%a8%e6%96%b9%e4%bd%8d%e5%b0%88%e6%a5%ad%e7%be%8e%e5%ae%b9/',\n",
       " 'https://hkbeautyhub.com/listing-shop/maple-beauty-fitness-centre-%e7%9b%88%e6%a5%93%e7%ba%96%e9%ab%94%e7%be%8e%e5%ae%b9%e4%b8%ad%e5%bf%83/',\n",
       " 'https://hkbeautyhub.com/listing-shop/%e8%92%b8%e8%85%b3%e6%a8%82-2/',\n",
       " 'https://hkbeautyhub.com/listing-shop/colla-white-cwb/',\n",
       " 'https://hkbeautyhub.com/listing-shop/yanis-beauty%e6%9c%97%e6%99%b4%e5%9d%8a/',\n",
       " 'https://hkbeautyhub.com/listing-shop/infinite-medical/',\n",
       " 'https://hkbeautyhub.com/listing-shop/giho/',\n",
       " 'https://hkbeautyhub.com/listing-shop/yanis-beauty%e6%b5%b7%e5%b3%b6%e4%b8%ad%e5%bf%83/',\n",
       " 'https://hkbeautyhub.com/listing-shop/%e5%a4%a9%e4%bd%bf%e7%be%8e%e5%ae%b9-2/',\n",
       " 'https://hkbeautyhub.com/listing-shop/%e6%a8%82%e5%a7%bf%e7%be%8e%e5%ae%b9%e4%b8%ad%e5%bf%83-2/',\n",
       " 'https://hkbeautyhub.com/listing-shop/yyt-clinic%ef%bc%8ebeauty-%e8%8d%83%e7%81%a3-2/',\n",
       " 'https://hkbeautyhub.com/listing-shop/beauty-century-2/',\n",
       " 'https://hkbeautyhub.com/listing-shop/%e6%b5%b7%e7%9b%88-%e8%8d%83%e7%81%a3%e5%ba%97/',\n",
       " 'https://hkbeautyhub.com/listing-shop/%e7%be%8e%e9%82%a6%e9%86%ab%e5%ad%b8%e9%ab%94%e6%aa%a2%e4%b8%ad%e5%bf%83/',\n",
       " 'https://hkbeautyhub.com/listing-shop/skinical-medicenter-%e8%a7%80%e5%a1%98%e5%ba%97/',\n",
       " 'https://hkbeautyhub.com/listing-shop/origin-spa-%e8%a7%80%e5%a1%98%e5%ba%97/',\n",
       " 'https://hkbeautyhub.com/listing-shop/dianna-beauty-%e5%9e%8b%e7%b9%a1%e7%be%8e%e4%b8%ad%e5%bf%83/',\n",
       " 'https://hkbeautyhub.com/listing-shop/elegant-beauty-%e8%a7%80%e5%a1%98%e5%ba%97/',\n",
       " 'https://hkbeautyhub.com/listing-shop/%e5%ae%89%e7%94%9f%e7%b4%8d%e7%b1%b3%e6%b1%97%e8%92%b8%e6%b0%a7%e5%90%a7/',\n",
       " 'https://hkbeautyhub.com/listing-shop/%e5%bd%a9%e5%a6%ae%e7%be%8e%e5%ae%b9%e9%99%a2/',\n",
       " 'https://hkbeautyhub.com/listing-shop/%e7%b4%ab%e7%9b%88%e8%bb%92%e7%ba%96%e9%ab%94%e7%be%8e%e5%ae%b9%e4%b8%ad%e5%bf%83/',\n",
       " 'https://hkbeautyhub.com/listing-shop/sanchia-beauty-%e5%af%b6%e9%81%94%e5%88%86%e5%ba%97/',\n",
       " 'https://hkbeautyhub.com/listing-shop/%e7%89%9b%e9%a0%ad%e8%a7%92%e6%af%9b%e7%8f%8d%e7%8f%8d%e6%89%ae%e9%9d%9a%e5%b0%88%e9%96%80%e5%ba%97/',\n",
       " 'https://hkbeautyhub.com/listing-shop/%e6%ba%90%e7%be%8e%e5%a0%82-2/',\n",
       " 'https://hkbeautyhub.com/listing-shop/yumi-beauty-%e6%82%a0%e7%be%8e/',\n",
       " 'https://hkbeautyhub.com/listing-shop/%e8%89%be%e8%8e%89%e7%b5%b2%e8%ad%b7%e8%86%9a%e6%b8%9b%e8%82%a5%e7%be%8e%e5%ae%b9%e9%99%a2/',\n",
       " 'https://hkbeautyhub.com/listing-shop/msnail-%e7%be%8e%e4%b9%8b%e7%94%b2%e8%88%8d/',\n",
       " 'https://hkbeautyhub.com/listing-shop/shiny-beauty-centre-%e4%bb%99%e9%ba%97%e7%be%8e%e5%ae%b9%e8%ad%b7%e8%86%9a%e4%b8%ad%e5%bf%83/',\n",
       " 'https://hkbeautyhub.com/listing-shop/colla-white-central/',\n",
       " 'https://hkbeautyhub.com/listing-shop/glamour-beauty-pro/',\n",
       " 'https://hkbeautyhub.com/listing-shop/dr-rebornlangham-place/',\n",
       " 'https://hkbeautyhub.com/listing-shop/reformatory-hk/',\n",
       " 'https://hkbeautyhub.com/listing-shop/ms_magic_skin/',\n",
       " 'https://hkbeautyhub.com/listing-shop/dazzle-faces-studio%e9%9f%93%e5%bc%8f%e7%b4%a0%e5%a7%b8%e5%b7%a5%e4%bd%9c%e5%ae%a4/',\n",
       " 'https://hkbeautyhub.com/listing-shop/wonderful-body-beauty-centre-%e5%a6%8d%e7%be%8e%e7%ba%96%e9%ab%94%e7%be%8e%e5%ae%b9%e4%b8%ad%e5%bf%83/',\n",
       " 'https://hkbeautyhub.com/listing-shop/medicglow-%e8%a7%80%e5%a1%98%e5%bb%a3%e5%a0%b4%e5%ba%97-%e5%b7%b2%e7%b5%90%e6%a5%ad/',\n",
       " 'https://hkbeautyhub.com/listing-shop/beautyforever-%e7%b5%82%e7%94%9f%e7%be%8e%e9%ba%97%e7%be%8e%e5%ae%b9%e7%ba%96%e9%ab%94%e4%b8%ad%e5%bf%83-%e8%a7%80%e5%a1%98%e5%ba%97/',\n",
       " 'https://hkbeautyhub.com/listing-shop/ysl-beauty-apm/',\n",
       " 'https://hkbeautyhub.com/listing-shop/may-beauty/',\n",
       " 'https://hkbeautyhub.com/listing-shop/princess-house-%e8%a7%80%e5%a1%98%e5%ba%97/',\n",
       " 'https://hkbeautyhub.com/listing-shop/pronails-hong-kong/',\n",
       " 'https://hkbeautyhub.com/listing-shop/sanchia-beauty-%e6%9b%89%e9%ba%97%e8%8b%91%e7%b8%bd%e5%ba%97/',\n",
       " 'https://hkbeautyhub.com/listing-shop/musee-platinum-tokyo-%e8%a7%80%e5%a1%98%e5%88%86%e5%ba%97/',\n",
       " 'https://hkbeautyhub.com/listing-shop/sugernail-co/',\n",
       " 'https://hkbeautyhub.com/listing-shop/%e5%a4%a9%e4%bd%bf%e7%ba%96%e9%ab%94%e6%b0%b4%e7%99%82%e4%b8%ad%e5%bf%83-%e8%a7%80%e5%a1%98%e5%ba%97/',\n",
       " 'https://hkbeautyhub.com/listing-shop/%e7%99%be%e5%92%8c%e7%be%8e%e5%ae%b9-bella-beauty-house/',\n",
       " 'https://hkbeautyhub.com/listing-shop/le-charme-beauty/',\n",
       " 'https://hkbeautyhub.com/listing-shop/s-beauty-%e9%86%ab%e5%ad%b8%e7%be%8e%e5%ae%b9%e4%b8%ad%e5%bf%83/',\n",
       " 'https://hkbeautyhub.com/listing-shop/388-nails/',\n",
       " 'https://hkbeautyhub.com/listing-shop/slim-beauty-%e8%a7%80%e5%a1%98%e5%88%86%e5%ba%97/',\n",
       " 'https://hkbeautyhub.com/listing-shop/lets-beauty-hk/',\n",
       " 'https://hkbeautyhub.com/listing-shop/tip-ntoe-hk/',\n",
       " 'https://hkbeautyhub.com/listing-shop/%e5%a7%bf%e9%87%87%e7%be%8e%e5%ae%b9/']"
      ]
     },
     "execution_count": 13,
     "metadata": {},
     "output_type": "execute_result"
    }
   ],
   "source": [
    "hyperlink = []\n",
    "for i in range(0, len(full_array)):\n",
    "    hyperlink = hyperlink + [full_array[i].contents[0][\"href\"]]\n",
    "hyperlink"
   ]
  },
  {
   "cell_type": "code",
   "execution_count": 16,
   "id": "ca1c389d-1388-4cf0-b209-dd64f8e1f87f",
   "metadata": {},
   "outputs": [
    {
     "data": {
      "text/html": [
       "<div>\n",
       "<style scoped>\n",
       "    .dataframe tbody tr th:only-of-type {\n",
       "        vertical-align: middle;\n",
       "    }\n",
       "\n",
       "    .dataframe tbody tr th {\n",
       "        vertical-align: top;\n",
       "    }\n",
       "\n",
       "    .dataframe thead th {\n",
       "        text-align: right;\n",
       "    }\n",
       "</style>\n",
       "<table border=\"1\" class=\"dataframe\">\n",
       "  <thead>\n",
       "    <tr style=\"text-align: right;\">\n",
       "      <th></th>\n",
       "      <th>Hyperlink</th>\n",
       "    </tr>\n",
       "  </thead>\n",
       "  <tbody>\n",
       "    <tr>\n",
       "      <th>0</th>\n",
       "      <td>https://hkbeautyhub.com/listing-shop/two-beauty/</td>\n",
       "    </tr>\n",
       "    <tr>\n",
       "      <th>1</th>\n",
       "      <td>https://hkbeautyhub.com/listing-shop/glamour-b...</td>\n",
       "    </tr>\n",
       "    <tr>\n",
       "      <th>2</th>\n",
       "      <td>https://hkbeautyhub.com/listing-shop/eternal-b...</td>\n",
       "    </tr>\n",
       "    <tr>\n",
       "      <th>3</th>\n",
       "      <td>https://hkbeautyhub.com/listing-shop/mm-nail-e...</td>\n",
       "    </tr>\n",
       "    <tr>\n",
       "      <th>4</th>\n",
       "      <td>https://hkbeautyhub.com/listing-shop/giho/</td>\n",
       "    </tr>\n",
       "    <tr>\n",
       "      <th>...</th>\n",
       "      <td>...</td>\n",
       "    </tr>\n",
       "    <tr>\n",
       "      <th>193</th>\n",
       "      <td>https://hkbeautyhub.com/listing-shop/388-nails/</td>\n",
       "    </tr>\n",
       "    <tr>\n",
       "      <th>194</th>\n",
       "      <td>https://hkbeautyhub.com/listing-shop/slim-beau...</td>\n",
       "    </tr>\n",
       "    <tr>\n",
       "      <th>195</th>\n",
       "      <td>https://hkbeautyhub.com/listing-shop/lets-beau...</td>\n",
       "    </tr>\n",
       "    <tr>\n",
       "      <th>196</th>\n",
       "      <td>https://hkbeautyhub.com/listing-shop/tip-ntoe-hk/</td>\n",
       "    </tr>\n",
       "    <tr>\n",
       "      <th>197</th>\n",
       "      <td>https://hkbeautyhub.com/listing-shop/%e5%a7%bf...</td>\n",
       "    </tr>\n",
       "  </tbody>\n",
       "</table>\n",
       "<p>198 rows × 1 columns</p>\n",
       "</div>"
      ],
      "text/plain": [
       "                                             Hyperlink\n",
       "0     https://hkbeautyhub.com/listing-shop/two-beauty/\n",
       "1    https://hkbeautyhub.com/listing-shop/glamour-b...\n",
       "2    https://hkbeautyhub.com/listing-shop/eternal-b...\n",
       "3    https://hkbeautyhub.com/listing-shop/mm-nail-e...\n",
       "4           https://hkbeautyhub.com/listing-shop/giho/\n",
       "..                                                 ...\n",
       "193    https://hkbeautyhub.com/listing-shop/388-nails/\n",
       "194  https://hkbeautyhub.com/listing-shop/slim-beau...\n",
       "195  https://hkbeautyhub.com/listing-shop/lets-beau...\n",
       "196  https://hkbeautyhub.com/listing-shop/tip-ntoe-hk/\n",
       "197  https://hkbeautyhub.com/listing-shop/%e5%a7%bf...\n",
       "\n",
       "[198 rows x 1 columns]"
      ]
     },
     "execution_count": 16,
     "metadata": {},
     "output_type": "execute_result"
    }
   ],
   "source": [
    "df = pd.DataFrame(hyperlink, columns=[\"Hyperlink\"])\n",
    "df = df.drop_duplicates()\n",
    "df = df.reset_index(drop=True)\n",
    "df"
   ]
  },
  {
   "cell_type": "code",
   "execution_count": 139,
   "id": "132d6c34-5e23-411f-9091-56fabb1cc5d3",
   "metadata": {},
   "outputs": [],
   "source": [
    "df.to_excel(\"Beauty_Hyperlinks.xlsx\", index=False)"
   ]
  }
 ],
 "metadata": {
  "kernelspec": {
   "display_name": "Python 3 (ipykernel)",
   "language": "python",
   "name": "python3"
  },
  "language_info": {
   "codemirror_mode": {
    "name": "ipython",
    "version": 3
   },
   "file_extension": ".py",
   "mimetype": "text/x-python",
   "name": "python",
   "nbconvert_exporter": "python",
   "pygments_lexer": "ipython3",
   "version": "3.8.8"
  }
 },
 "nbformat": 4,
 "nbformat_minor": 5
}
